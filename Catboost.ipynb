{
 "cells": [
  {
   "cell_type": "markdown",
   "id": "a279ff18-1a8b-40e2-ae9f-b937a59b787a",
   "metadata": {},
   "source": [
    "準備していたデータセットと今回確認をするcatboostをインポートします（Data_set.ipynbをご覧ください）"
   ]
  },
  {
   "cell_type": "code",
   "execution_count": null,
   "id": "7ab70f62-f0e3-427c-9578-423cde4066d8",
   "metadata": {},
   "outputs": [],
   "source": [
    "from Data_set import *\n",
    "from catboost import Pool\n",
    "from catboost import CatBoostClassifier"
   ]
  },
  {
   "cell_type": "markdown",
   "id": "1667879f-7db2-4272-abfa-aa407c3a3f80",
   "metadata": {},
   "source": [
    "Poolというcatboost用のデータ型に変換しています"
   ]
  },
  {
   "cell_type": "code",
   "execution_count": null,
   "id": "6a87f81a-0f31-4233-bf94-4cfe41784d74",
   "metadata": {},
   "outputs": [],
   "source": [
    "train_pool = Pool(X_train, labels_train)\n",
    "validate_pool = Pool(X_validation, labels_validation)"
   ]
  },
  {
   "cell_type": "markdown",
   "id": "5d4ca931-2136-498d-87d9-2417b817e452",
   "metadata": {},
   "source": [
    "実行データをまとめます。iterationsに指定した回数分学習を回します。 early_stopping_roundsに指定した回数連続で精度が向上しなければその結果を代入して終了します。 この中でもseedの値を固定しないと思うような結果が出ないのでここでも指定します。custom_lossでそれぞれの確率を求める分析方法（多項分類を指定します）"
   ]
  },
  {
   "cell_type": "code",
   "execution_count": null,
   "id": "29b2a328-19b1-4b22-9545-776942a9fa9e",
   "metadata": {},
   "outputs": [],
   "source": [
    "params = {\n",
    "    'iterations' : 100, \n",
    "    'early_stopping_rounds' : 10,\n",
    "    'custom_loss' :['Accuracy'], \n",
    "    'random_seed' :42\n",
    "}"
   ]
  },
  {
   "cell_type": "markdown",
   "id": "6caff0ca-d909-4b9a-b297-b02f4089c9ee",
   "metadata": {},
   "source": [
    "今回パラメータを指定したのでインスタンスに適用させる必要があります。\n",
    "ここはかなり複雑なので説明を省かせていただきます。しかしやっていることは、デフォルトから書き換えた部分を\n",
    "適用できるようにしているだけです。そして最後に実行します。"
   ]
  },
  {
   "cell_type": "code",
   "execution_count": null,
   "id": "bac534d9-0839-42b8-89a6-44340a4d618b",
   "metadata": {},
   "outputs": [],
   "source": [
    "model = CatBoostClassifier(**params)\n",
    "cab = model.fit(train_pool, eval_set=validate_pool)\n",
    "preds = cab.predict(X_test)"
   ]
  },
  {
   "cell_type": "markdown",
   "id": "ea8f4a23-8096-4fe1-a466-8eb71c7a5a1a",
   "metadata": {},
   "source": [
    "正解度と経過時間を出力します。"
   ]
  },
  {
   "cell_type": "code",
   "execution_count": null,
   "id": "6eb68d3a-f6a9-480f-aa3b-b32752b9212f",
   "metadata": {},
   "outputs": [],
   "source": [
    "print('accuracy_score:{}'.format(accuracy_score(labels_test, preds)))\n",
    "print('elapsed_timetime:{}'.format(time.time()-start))"
   ]
  }
 ],
 "metadata": {
  "kernelspec": {
   "display_name": "Python 3",
   "language": "python",
   "name": "python3"
  },
  "language_info": {
   "codemirror_mode": {
    "name": "ipython",
    "version": 3
   },
   "file_extension": ".py",
   "mimetype": "text/x-python",
   "name": "python",
   "nbconvert_exporter": "python",
   "pygments_lexer": "ipython3",
   "version": "3.6.13"
  }
 },
 "nbformat": 4,
 "nbformat_minor": 5
}
