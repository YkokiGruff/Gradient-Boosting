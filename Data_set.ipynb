{
 "cells": [
  {
   "cell_type": "markdown",
   "id": "0dcdeabd-52a8-4bf6-80c5-cb8eb85cb98a",
   "metadata": {},
   "source": [
    "必要なライブラリをインポートします。詳細はREADME.mdをご覧ださい"
   ]
  },
  {
   "cell_type": "code",
   "execution_count": 2,
   "id": "d8a3e823-29e5-4f05-baa0-7f0b2996a8f4",
   "metadata": {},
   "outputs": [],
   "source": [
    "import xgboost as xgb\n",
    "import pandas as pd\n",
    "import numpy as np\n",
    "from tensorflow.keras.datasets import mnist\n",
    "from sklearn.model_selection import train_test_split\n",
    "from sklearn.metrics import accuracy_score"
   ]
  },
  {
   "cell_type": "markdown",
   "id": "d8cebcdf-884d-4191-8242-0437f1b04f3f",
   "metadata": {},
   "source": [
    "Kerasに付属の手書き数字画像データをダウンロードします。\n",
    "まずnp.random.seed(0)でリセットすると同じ値が生成されるようにします。\n",
    "次にimportした手書き数字データベース60,000枚を訓練用とテスト用それぞれに分けて変数に代入します。\n",
    "xが28＊28の画像データで8ビットで保存されています。labaelが0〜9の整数を8ビットで保存しています。"
   ]
  },
  {
   "cell_type": "code",
   "execution_count": 11,
   "id": "b4d06173-2bea-4b9e-aa8f-ac50a65b78c7",
   "metadata": {},
   "outputs": [],
   "source": [
    "np.random.seed(0)\n",
    "(X_train_base, labels_train_base), (X_test, labels_test) = mnist.load_data()"
   ]
  },
  {
   "cell_type": "markdown",
   "id": "1501536c-a757-4dbf-9e88-1eb13ec69477",
   "metadata": {},
   "source": [
    "Training set を学習データ（X_train, labels_train）と検証データ（X_validation, labels_validation）に8:2で分割する。（カンマの後にスペースを置くとエラーが発生しますのでご注意ください。）"
   ]
  },
  {
   "cell_type": "code",
   "execution_count": 19,
   "id": "7b79b93b-8f8b-431d-8b5f-cfbd22c05426",
   "metadata": {},
   "outputs": [],
   "source": [
    "X_train,X_validation,labels_train,labels_validation = train_test_split(X_train_base,labels_train_base,test_size = 0.2)"
   ]
  },
  {
   "cell_type": "markdown",
   "id": "384c5396-aed7-4651-ab56-da2765834f8f",
   "metadata": {},
   "source": [
    "各画像は行列なので1次元に変換→X_train,X_validation,X_testを上書き\n",
    "（28*28＝784の配列になっているのでそれを1行に整列するためそれよりも小さい数字を代入しています。-1784は特に意味はありません。）"
   ]
  },
  {
   "cell_type": "code",
   "execution_count": 20,
   "id": "7fdcf7db-f4fe-416a-a8e2-aa02322c6bb5",
   "metadata": {},
   "outputs": [],
   "source": [
    "X_train = X_train.reshape(-1,784)\n",
    "X_validation = X_validation.reshape(-1,784)\n",
    "X_test = X_test.reshape(-1,784)"
   ]
  },
  {
   "cell_type": "markdown",
   "id": "32a77d6f-e4ba-4d6c-8f9c-5d6a6ba9518e",
   "metadata": {},
   "source": [
    "次に正規化です。データタイプを全て不動小数点型に揃えてこれを0.0〜1.0の範囲に入るよう255で割ります。"
   ]
  },
  {
   "cell_type": "code",
   "execution_count": null,
   "id": "fbb5f59e-1b40-4a0f-bffb-bbc835d67ee0",
   "metadata": {},
   "outputs": [],
   "source": [
    "X_train = X_train.astype('float32')\n",
    "X_validation = X_validation.astype('float32')\n",
    "X_test = X_test.astype('float32')\n",
    "X_train /= 255\n",
    "X_validation /= 255\n",
    "X_test /= 255"
   ]
  },
  {
   "cell_type": "markdown",
   "id": "26acbc15-b950-40ef-84fc-6de228fe8670",
   "metadata": {},
   "source": [
    "経過時間の計測です。"
   ]
  },
  {
   "cell_type": "code",
   "execution_count": null,
   "id": "20bdef34-8ec1-44ab-a55c-0c2d82d6a46f",
   "metadata": {},
   "outputs": [],
   "source": [
    "import time\n",
    "start = time.time()"
   ]
  }
 ],
 "metadata": {
  "kernelspec": {
   "display_name": "Python 3",
   "language": "python",
   "name": "python3"
  },
  "language_info": {
   "codemirror_mode": {
    "name": "ipython",
    "version": 3
   },
   "file_extension": ".py",
   "mimetype": "text/x-python",
   "name": "python",
   "nbconvert_exporter": "python",
   "pygments_lexer": "ipython3",
   "version": "3.6.13"
  }
 },
 "nbformat": 4,
 "nbformat_minor": 5
}
