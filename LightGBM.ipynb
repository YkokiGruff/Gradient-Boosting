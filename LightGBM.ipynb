{
 "cells": [
  {
   "cell_type": "markdown",
   "id": "011555d2-bd8b-43ea-92b9-2c869d13e71c",
   "metadata": {},
   "source": [
    "準備していたデータセットと今回確認をするLigjtGBMをインポートします（Data_set.ipynbをご覧ください）"
   ]
  },
  {
   "cell_type": "code",
   "execution_count": null,
   "id": "ca6f92ff-afe1-4045-a6ff-ead8c11d32ed",
   "metadata": {},
   "outputs": [],
   "source": [
    "from Data_set import *\n",
    "import lightgbm as lgb"
   ]
  },
  {
   "cell_type": "markdown",
   "id": "a680f0cb-cd88-4ff9-8b72-1db81413a505",
   "metadata": {},
   "source": [
    "lgb.DatasetというLigjtGBM用のデータ型に変換しています"
   ]
  },
  {
   "cell_type": "code",
   "execution_count": null,
   "id": "849ae0ba-8076-4194-8343-824199482e03",
   "metadata": {},
   "outputs": [],
   "source": [
    "train_data = lgb.Dataset(X_train, label=labels_train)\n",
    "eval_data = lgb.Dataset(X_validation, label=labels_validation, reference= train_data)"
   ]
  },
  {
   "cell_type": "markdown",
   "id": "72ac1c41-d5de-404f-be50-768db8857404",
   "metadata": {},
   "source": [
    "LigjtGBMの仕様についてです。 objectiveにそれぞれの確率を求める分析方法（多項分類を指定します） num_classの値10は（0〜9の１０個です） boosting_typeでそれぞれの対数損失を表す値を取得します。 つまり、手書きの画像データが0の確率、１の確率、２の確率・・・９の確率をそれぞれ出し、 最も高い確率のものを採用するといった分析方法です。この時にXgboostと違う部分は全ての値を変数に配列として取得するところです。"
   ]
  },
  {
   "cell_type": "code",
   "execution_count": null,
   "id": "3d8017ea-c568-4b2a-b8a0-cc6f36f65e6e",
   "metadata": {},
   "outputs": [],
   "source": [
    "params = {\n",
    "'objective': 'multiclass',\n",
    "'num_class': 10,\n",
    "'task': 'train',\n",
    "'boosting_type': 'gbdt',\n",
    "}"
   ]
  },
  {
   "cell_type": "markdown",
   "id": "4ea81f64-b4b3-4cbe-bc96-9efcc459106b",
   "metadata": {},
   "source": [
    "実行データをまとめます。 num_boost_roundに指定した回数分学習を回します。 early_stopping_roundsに指定した回数連続で精度が向上しなければその結果を代入して終了します。 最後に予測したデータを変数に代入します。"
   ]
  },
  {
   "cell_type": "code",
   "execution_count": null,
   "id": "be5cf357-9ff1-4b86-94fa-ff3410636021",
   "metadata": {},
   "outputs": [],
   "source": [
    "gbm = lgb.train(\n",
    "params,\n",
    "train_data,\n",
    "valid_sets=eval_data,\n",
    "num_boost_round=100,\n",
    "early_stopping_rounds=10,\n",
    ")\n",
    "preds = gbm.predict(X_test)"
   ]
  },
  {
   "cell_type": "markdown",
   "id": "44badbc6-9e72-43d9-91ec-f210d802772b",
   "metadata": {},
   "source": [
    "最も確率の高いものを予測値の変数に代入するようfor分を回します。"
   ]
  },
  {
   "cell_type": "code",
   "execution_count": null,
   "id": "9e17070b-11f0-40fa-af35-a0c1b28b32ca",
   "metadata": {},
   "outputs": [],
   "source": [
    "y_pred = []\n",
    "for x in preds:\n",
    "  y_pred.append(np.argmax(x))"
   ]
  },
  {
   "cell_type": "markdown",
   "id": "3dc3deee-20d8-45ce-8e6f-b59f7f314ea6",
   "metadata": {},
   "source": [
    "正解度と経過時間を出力します。"
   ]
  },
  {
   "cell_type": "code",
   "execution_count": null,
   "id": "af22078a-78b9-40cf-b0c8-aa01a8a45d2f",
   "metadata": {},
   "outputs": [],
   "source": [
    "print('accuracy_score:{}'.format(accuracy_score(labels_test, preds)))\n",
    "print('elapsed_timetime:{}'.format(time.time()-start))"
   ]
  }
 ],
 "metadata": {
  "kernelspec": {
   "display_name": "Python 3",
   "language": "python",
   "name": "python3"
  },
  "language_info": {
   "codemirror_mode": {
    "name": "ipython",
    "version": 3
   },
   "file_extension": ".py",
   "mimetype": "text/x-python",
   "name": "python",
   "nbconvert_exporter": "python",
   "pygments_lexer": "ipython3",
   "version": "3.6.13"
  }
 },
 "nbformat": 4,
 "nbformat_minor": 5
}
