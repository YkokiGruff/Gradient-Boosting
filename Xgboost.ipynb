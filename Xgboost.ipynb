{
 "cells": [
  {
   "cell_type": "markdown",
   "id": "db3060d6-71b3-492a-9953-c44c966ba0f3",
   "metadata": {},
   "source": [
    "準備していたデータセットと今回確認をするxgboostをインポートします（Data_set.ipynbをご覧ください）"
   ]
  },
  {
   "cell_type": "code",
   "execution_count": null,
   "id": "92e6c53b-f535-4e5f-b3a8-465a0c80e7e1",
   "metadata": {},
   "outputs": [],
   "source": [
    "import xgboost as xgb\n",
    "from Data_set import *"
   ]
  },
  {
   "cell_type": "markdown",
   "id": "b454649c-6599-48e8-9b31-a8ae714d86d2",
   "metadata": {},
   "source": [
    "xgb.DMatrixというXGBoost用のデータ型に変換しています。"
   ]
  },
  {
   "cell_type": "code",
   "execution_count": null,
   "id": "f43a0f46-d12b-47fd-ab48-2b97bfdbd072",
   "metadata": {},
   "outputs": [],
   "source": [
    "train_data = xgb.DMatrix(X_train, label=labels_train)\n",
    "eval_data = xgb.DMatrix(X_validation, label=labels_validation)\n",
    "X_data = xgb.DMatrix(X_test, label=labels_test)"
   ]
  },
  {
   "cell_type": "markdown",
   "id": "a5e2aee8-9d8f-4464-947a-e46a172b3c5a",
   "metadata": {},
   "source": [
    "Xgboostの仕様についてです。\n",
    "objectiveにそれぞれの確率を求める分析方法（多項分類を指定します）\n",
    "num_classの値10は（0〜9の１０個です）\n",
    "eval_metricでそれぞれの対数損失を表す値を取得します。\n",
    "つまり、手書きの画像データが0の確率、１の確率、２の確率・・・９の確率をそれぞれ出し、\n",
    "最も高い確率のものを採用するといった分析方法です。そして最後に結果を変数に代入します。"
   ]
  },
  {
   "cell_type": "code",
   "execution_count": null,
   "id": "cd8f3815-3374-4138-97b5-db9ee3924d10",
   "metadata": {},
   "outputs": [],
   "source": [
    "xgb_params = {\n",
    "    'objective':'multi:softmax',\n",
    "    'num_class': 10,\n",
    "    'eval_metric': 'mlogloss',\n",
    "    }\n",
    "evals = [(train_data, 'train'), (eval_data, 'eval')]"
   ]
  },
  {
   "cell_type": "markdown",
   "id": "42d71a62-fcef-452e-bbcb-c0a02489ef22",
   "metadata": {},
   "source": [
    "実行データをまとめます。\n",
    "num_boost_roundに指定した回数分学習を回します。\n",
    "early_stopping_roundsに指定した回数連続で精度が向上しなければその結果を代入して終了します。\n",
    "最後に予測したデータを変数に代入します。"
   ]
  },
  {
   "cell_type": "code",
   "execution_count": null,
   "id": "4f1e315f-8c5c-4940-ab73-0c97378399a0",
   "metadata": {},
   "outputs": [],
   "source": [
    "gbm = xgb.train(\n",
    "    xgb_params,\n",
    "    train_data,\n",
    "    num_boost_round=100,\n",
    "    early_stopping_rounds=10,\n",
    "    evals=evals,\n",
    "    )\n",
    "preds = gbm.predict(X_data)"
   ]
  },
  {
   "cell_type": "markdown",
   "id": "06e0e132-2b98-4280-8c48-aba9a1a65b5b",
   "metadata": {},
   "source": [
    "正解度と経過時間を出力します。"
   ]
  },
  {
   "cell_type": "code",
   "execution_count": null,
   "id": "20337980-2ce7-44e9-9da6-e972c4066c10",
   "metadata": {},
   "outputs": [],
   "source": [
    "print('accuracy_score:{}'.format(accuracy_score(labels_test, preds)))\n",
    "print('elapsed_timetime:{}'.format(time.time()-start))"
   ]
  }
 ],
 "metadata": {
  "kernelspec": {
   "display_name": "Python 3",
   "language": "python",
   "name": "python3"
  },
  "language_info": {
   "codemirror_mode": {
    "name": "ipython",
    "version": 3
   },
   "file_extension": ".py",
   "mimetype": "text/x-python",
   "name": "python",
   "nbconvert_exporter": "python",
   "pygments_lexer": "ipython3",
   "version": "3.6.13"
  }
 },
 "nbformat": 4,
 "nbformat_minor": 5
}
